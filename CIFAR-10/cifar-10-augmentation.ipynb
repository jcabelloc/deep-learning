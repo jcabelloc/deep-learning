{
 "cells": [
  {
   "cell_type": "code",
   "execution_count": 4,
   "metadata": {},
   "outputs": [],
   "source": [
    "# Function to load CIFAR-10 files\n",
    "def unpickle(file):\n",
    "    import pickle\n",
    "    with open(file, 'rb') as fo:\n",
    "        dict = pickle.load(fo, encoding='latin1')\n",
    "        data = dict['data'].reshape((len(dict['data']), 3, 32, 32)).transpose(0, 2, 3, 1)\n",
    "        labels = dict['labels']\n",
    "    return data, labels\n"
   ]
  },
  {
   "cell_type": "code",
   "execution_count": 5,
   "metadata": {},
   "outputs": [
    {
     "name": "stdout",
     "output_type": "stream",
     "text": [
      "(50000, 32, 32, 3)\n",
      "Data Shape and Label Length of training data: (30000, 32, 32, 3) - 30000\n",
      "Data Shape and Label Length of validation data: (20000, 32, 32, 3) - 20000\n",
      "Data Shape and Label Length of test data: (10000, 32, 32, 3) - 10000\n"
     ]
    }
   ],
   "source": [
    "import numpy as np\n",
    "\n",
    "# Loading data and splitting data into training and validation data\n",
    "fname = 'cifar-10-python/cifar-10-batches-py/data_batch_'\n",
    "for i in range(1,6):\n",
    "    if i == 1:\n",
    "        data, labels = unpickle(fname+str(i))\n",
    "    else:\n",
    "        dt, lb = unpickle(fname+str(i))\n",
    "        data = np.append(data,dt, axis=0)\n",
    "        labels = labels + lb\n",
    "print(data.shape)\n",
    "\n",
    "train_data = data[0:30000, :, :, :]\n",
    "train_labels = labels[0:30000]\n",
    "print('Data Shape and Label Length of training data: ' + str(train_data.shape) + \" - \" + str(len(train_labels)))\n",
    "\n",
    "validation_data = data[30000:50000, :, :, :]\n",
    "validation_labels = labels[30000:50000]\n",
    "print('Data Shape and Label Length of validation data: ' + str(validation_data.shape) + \" - \" + str(len(validation_labels)))\n",
    "\n",
    "# Loading test data\n",
    "fname = 'cifar-10-python/cifar-10-batches-py/test_batch'\n",
    "test_data, test_labels = unpickle(fname)\n",
    "print('Data Shape and Label Length of test data: ' + str(test_data.shape) + \" - \" + str(len(test_labels)))\n",
    "\n",
    "# Scaling into [0,1] interval\n",
    "train_data = train_data.astype('float32')/255\n",
    "validation_data = validation_data.astype('float32')/255\n",
    "test_data = test_data.astype('float32')/255\n",
    "\n",
    "# Make labels categorical\n",
    "from keras.utils import to_categorical\n",
    "train_labels = to_categorical(train_labels)\n",
    "validation_labels = to_categorical(validation_labels)\n",
    "test_labels = to_categorical(test_labels)\n"
   ]
  },
  {
   "cell_type": "code",
   "execution_count": 10,
   "metadata": {},
   "outputs": [
    {
     "name": "stdout",
     "output_type": "stream",
     "text": [
      "_________________________________________________________________\n",
      "Layer (type)                 Output Shape              Param #   \n",
      "=================================================================\n",
      "conv2d_4 (Conv2D)            (None, 30, 30, 64)        1792      \n",
      "_________________________________________________________________\n",
      "max_pooling2d_3 (MaxPooling2 (None, 15, 15, 64)        0         \n",
      "_________________________________________________________________\n",
      "conv2d_5 (Conv2D)            (None, 13, 13, 128)       73856     \n",
      "_________________________________________________________________\n",
      "max_pooling2d_4 (MaxPooling2 (None, 6, 6, 128)         0         \n",
      "_________________________________________________________________\n",
      "conv2d_6 (Conv2D)            (None, 4, 4, 128)         147584    \n",
      "_________________________________________________________________\n",
      "flatten_2 (Flatten)          (None, 2048)              0         \n",
      "_________________________________________________________________\n",
      "dropout_1 (Dropout)          (None, 2048)              0         \n",
      "_________________________________________________________________\n",
      "dense_3 (Dense)              (None, 256)               524544    \n",
      "_________________________________________________________________\n",
      "dense_4 (Dense)              (None, 10)                2570      \n",
      "=================================================================\n",
      "Total params: 750,346\n",
      "Trainable params: 750,346\n",
      "Non-trainable params: 0\n",
      "_________________________________________________________________\n"
     ]
    }
   ],
   "source": [
    "# Define a basic convolutional network with 3 layers\n",
    "from keras import layers\n",
    "from keras import models\n",
    "\n",
    "model = models.Sequential()\n",
    "model.add(layers.Conv2D(64, (3, 3), activation='relu', input_shape=(32, 32, 3)))\n",
    "model.add(layers.MaxPooling2D((2, 2)))\n",
    "model.add(layers.Conv2D(128, (3, 3), activation='relu'))\n",
    "model.add(layers.MaxPooling2D((2, 2)))\n",
    "model.add(layers.Conv2D(128, (3, 3), activation='relu'))\n",
    "\n",
    "# Define the densely conneted clasifier\n",
    "model.add(layers.Flatten())\n",
    "\n",
    "# Add Drop out\n",
    "model.add(layers.Dropout(0.3))\n",
    "\n",
    "model.add(layers.Dense(256, activation='relu'))\n",
    "model.add(layers.Dense(10, activation='softmax'))\n",
    "\n",
    "model.summary()\n"
   ]
  },
  {
   "cell_type": "code",
   "execution_count": 11,
   "metadata": {},
   "outputs": [],
   "source": [
    "from keras import optimizers\n",
    "\n",
    "# Compile the model\n",
    "model.compile(optimizer=optimizers.RMSprop(lr=1e-4),\n",
    "              loss='categorical_crossentropy',\n",
    "              metrics=['accuracy'])"
   ]
  },
  {
   "cell_type": "code",
   "execution_count": 12,
   "metadata": {},
   "outputs": [],
   "source": [
    "from keras.preprocessing.image import ImageDataGenerator\n",
    "\n",
    "train_datagen = ImageDataGenerator(\n",
    "    rotation_range=40,\n",
    "    width_shift_range=0.2,\n",
    "    height_shift_range=0.2,\n",
    "    shear_range=0.2,\n",
    "    zoom_range=0.2,\n",
    "    horizontal_flip=True,)\n",
    "\n",
    "# Note that the validation data should not be augmented!\n",
    "test_datagen = ImageDataGenerator()\n",
    "\n",
    "test_datagen.fit(train_data)\n",
    "\n",
    "train_generator = train_datagen.flow(\n",
    "        train_data,\n",
    "        train_labels,\n",
    "        batch_size=32\n",
    "        )\n",
    "\n",
    "validation_generator = test_datagen.flow(\n",
    "        validation_data,\n",
    "        validation_labels,\n",
    "        batch_size=32,\n",
    "        )"
   ]
  },
  {
   "cell_type": "code",
   "execution_count": 16,
   "metadata": {},
   "outputs": [
    {
     "name": "stdout",
     "output_type": "stream",
     "text": [
      "Epoch 1/1\n",
      "938/937 [==============================] - 184s 196ms/step - loss: 0.9255 - acc: 0.6816 - val_loss: 0.8908 - val_acc: 0.7045\n"
     ]
    }
   ],
   "source": [
    "# Fit the model\n",
    "history = model.fit_generator(\n",
    "                    train_generator,\n",
    "                    steps_per_epoch=len(train_data) / 32, # 32 is the batch size\n",
    "                    epochs=1, # Must be 100 on Terra\n",
    "                    validation_data=validation_generator,\n",
    "                    validation_steps=len(validation_data) / 32 # 32 is the batch size\n",
    "                   )\n"
   ]
  },
  {
   "cell_type": "code",
   "execution_count": 18,
   "metadata": {},
   "outputs": [],
   "source": [
    "model.save('cifar-10-augmentation.h5')"
   ]
  },
  {
   "cell_type": "code",
   "execution_count": 19,
   "metadata": {},
   "outputs": [],
   "source": [
    "# run this cell if only if model was trained on terra\n",
    "from keras.models import load_model\n",
    "import pickle\n",
    "\n",
    "model = load_model('terra/' + 'cifar-10-augmentation.h5')\n",
    "\n",
    "with open('terra/' + 'cifar-10-augmentation-history.pickle', 'rb') as f:\n",
    "    data = pickle.load(f)\n",
    "\n",
    "history.history = data"
   ]
  },
  {
   "cell_type": "code",
   "execution_count": 21,
   "metadata": {},
   "outputs": [
    {
     "data": {
      "image/png": "[encoded data removed]",
      "text/plain": [
       "<Figure size 432x288 with 1 Axes>"
      ]
     },
     "metadata": {
      "needs_background": "light"
     },
     "output_type": "display_data"
    },
    {
     "data": {
      "image/png": "[encoded data removed]",
      "text/plain": [
       "<Figure size 432x288 with 1 Axes>"
      ]
     },
     "metadata": {
      "needs_background": "light"
     },
     "output_type": "display_data"
    }
   ],
   "source": [
    "# Plot the results\n",
    "\n",
    "import matplotlib.pyplot as plt\n",
    "\n",
    "acc = history.history['acc']\n",
    "val_acc = history.history['val_acc']\n",
    "loss = history.history['loss']\n",
    "val_loss = history.history['val_loss']\n",
    "\n",
    "epochs = range(len(acc))\n",
    "\n",
    "plt.plot(epochs, acc, 'bo', label='Training acc')\n",
    "plt.plot(epochs, val_acc, 'b', label='Validation acc')\n",
    "plt.title('Training and validation accuracy')\n",
    "plt.legend()\n",
    "\n",
    "plt.figure()\n",
    "\n",
    "plt.plot(epochs, loss, 'bo', label='Training loss')\n",
    "plt.plot(epochs, val_loss, 'b', label='Validation loss')\n",
    "plt.title('Training and validation loss')\n",
    "plt.legend()\n",
    "\n",
    "plt.show()"
   ]
  },
  {
   "cell_type": "code",
   "execution_count": 22,
   "metadata": {},
   "outputs": [
    {
     "name": "stdout",
     "output_type": "stream",
     "text": [
      "10000/10000 [==============================] - 17s 2ms/step\n",
      "test_acc:  0.74\n"
     ]
    }
   ],
   "source": [
    "test_loss, test_acc = model.evaluate(test_data, test_labels)\n",
    "print('test_acc: ', test_acc)"
   ]
  },
  {
   "cell_type": "code",
   "execution_count": null,
   "metadata": {},
   "outputs": [],
   "source": []
  },
  {
   "cell_type": "code",
   "execution_count": null,
   "metadata": {},
   "outputs": [],
   "source": []
  },
  {
   "cell_type": "code",
   "execution_count": null,
   "metadata": {},
   "outputs": [],
   "source": []
  }
 ],
 "metadata": {
  "kernelspec": {
   "display_name": "Python 3",
   "language": "python",
   "name": "python3"
  },
  "language_info": {
   "codemirror_mode": {
    "name": "ipython",
    "version": 3
   },
   "file_extension": ".py",
   "mimetype": "text/x-python",
   "name": "python",
   "nbconvert_exporter": "python",
   "pygments_lexer": "ipython3",
   "version": "3.6.7"
  }
 },
 "nbformat": 4,
 "nbformat_minor": 2
}

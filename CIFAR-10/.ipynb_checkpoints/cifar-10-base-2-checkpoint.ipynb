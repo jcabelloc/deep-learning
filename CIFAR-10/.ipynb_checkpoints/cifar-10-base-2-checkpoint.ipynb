{
 "cells": [
  {
   "cell_type": "code",
   "execution_count": 204,
   "metadata": {},
   "outputs": [],
   "source": [
    "# Function to load CIFAR-10 files\n",
    "def unpickle(file):\n",
    "    import pickle\n",
    "    with open(file, 'rb') as fo:\n",
    "        dict = pickle.load(fo, encoding='latin1')\n",
    "        data = dict['data'].reshape((len(dict['data']), 3, 32, 32)).transpose(0, 2, 3, 1)\n",
    "        labels = dict['labels']\n",
    "    return data, labels\n"
   ]
  },
  {
   "cell_type": "code",
   "execution_count": 205,
   "metadata": {},
   "outputs": [
    {
     "name": "stdout",
     "output_type": "stream",
     "text": [
      "(50000, 32, 32, 3)\n",
      "Data Shape and Label Length of training data: (30000, 32, 32, 3) - 30000\n",
      "Data Shape and Label Length of validation data: (20000, 32, 32, 3) - 20000\n",
      "Data Shape and Label Length of test data: (10000, 32, 32, 3) - 10000\n"
     ]
    }
   ],
   "source": [
    "import numpy as np\n",
    "\n",
    "# Loading data and splitting data into training and validation data\n",
    "fname = 'cifar-10-python/cifar-10-batches-py/data_batch_'\n",
    "for i in range(1,6):\n",
    "    if i == 1:\n",
    "        data, labels = unpickle(fname+str(i))\n",
    "    else:\n",
    "        dt, lb = unpickle(fname+str(i))\n",
    "        data = np.append(data,dt, axis=0)\n",
    "        labels = labels + lb\n",
    "print(data.shape)\n",
    "\n",
    "train_data = data[0:30000, :, :, :]\n",
    "train_labels = labels[0:30000]\n",
    "print('Data Shape and Label Length of training data: ' + str(train_data.shape) + \" - \" + str(len(train_labels)))\n",
    "\n",
    "validation_data = data[30000:50000, :, :, :]\n",
    "validation_labels = labels[30000:50000]\n",
    "print('Data Shape and Label Length of validation data: ' + str(validation_data.shape) + \" - \" + str(len(validation_labels)))\n",
    "\n",
    "# Loading test data\n",
    "fname = 'cifar-10-python/cifar-10-batches-py/test_batch'\n",
    "test_data, test_labels = unpickle(fname)\n",
    "print('Data Shape and Label Length of test data: ' + str(test_data.shape) + \" - \" + str(len(test_labels)))\n",
    "\n",
    "# Scaling into [0,1] interval\n",
    "train_data = train_data.astype('float32')/255\n",
    "validation_data = validation_data.astype('float32')/255\n",
    "test_data = test_data.astype('float32')/255\n",
    "\n",
    "# Make labels categorical\n",
    "from keras.utils import to_categorical\n",
    "train_labels = to_categorical(train_labels)\n",
    "validation_labels = to_categorical(validation_labels)\n",
    "test_labels = to_categorical(test_labels)\n"
   ]
  },
  {
   "cell_type": "code",
   "execution_count": 206,
   "metadata": {},
   "outputs": [
    {
     "name": "stdout",
     "output_type": "stream",
     "text": [
      "_________________________________________________________________\n",
      "Layer (type)                 Output Shape              Param #   \n",
      "=================================================================\n",
      "conv2d_10 (Conv2D)           (None, 30, 30, 32)        896       \n",
      "_________________________________________________________________\n",
      "max_pooling2d_7 (MaxPooling2 (None, 15, 15, 32)        0         \n",
      "_________________________________________________________________\n",
      "conv2d_11 (Conv2D)           (None, 13, 13, 64)        18496     \n",
      "_________________________________________________________________\n",
      "max_pooling2d_8 (MaxPooling2 (None, 6, 6, 64)          0         \n",
      "_________________________________________________________________\n",
      "conv2d_12 (Conv2D)           (None, 4, 4, 64)          36928     \n",
      "_________________________________________________________________\n",
      "flatten_4 (Flatten)          (None, 1024)              0         \n",
      "_________________________________________________________________\n",
      "dense_5 (Dense)              (None, 64)                65600     \n",
      "_________________________________________________________________\n",
      "dense_6 (Dense)              (None, 10)                650       \n",
      "=================================================================\n",
      "Total params: 122,570\n",
      "Trainable params: 122,570\n",
      "Non-trainable params: 0\n",
      "_________________________________________________________________\n"
     ]
    }
   ],
   "source": [
    "# Define a basic convolutional network with 3 layers\n",
    "from keras import layers\n",
    "from keras import models\n",
    "\n",
    "model = models.Sequential()\n",
    "model.add(layers.Conv2D(32, (3, 3), activation='relu', input_shape=(32, 32, 3)))\n",
    "model.add(layers.MaxPooling2D((2, 2)))\n",
    "model.add(layers.Conv2D(64, (3, 3), activation='relu'))\n",
    "model.add(layers.MaxPooling2D((2, 2)))\n",
    "model.add(layers.Conv2D(64, (3, 3), activation='relu'))\n",
    "\n",
    "# Define the densely conneted clasifier\n",
    "model.add(layers.Flatten())\n",
    "model.add(layers.Dense(64, activation='relu'))\n",
    "model.add(layers.Dense(10, activation='softmax'))\n",
    "\n",
    "model.summary()\n"
   ]
  },
  {
   "cell_type": "code",
   "execution_count": 207,
   "metadata": {},
   "outputs": [],
   "source": [
    "# Compile the model\n",
    "model.compile(optimizer='rmsprop',\n",
    "              loss='categorical_crossentropy',\n",
    "              metrics=['accuracy'])"
   ]
  },
  {
   "cell_type": "code",
   "execution_count": 208,
   "metadata": {},
   "outputs": [
    {
     "name": "stdout",
     "output_type": "stream",
     "text": [
      "Train on 30000 samples, validate on 20000 samples\n",
      "Epoch 1/30\n",
      "30000/30000 [==============================] - 1657s 55ms/step - loss: 1.7793 - acc: 0.3540 - val_loss: 1.4675 - val_acc: 0.4728\n",
      "Epoch 2/30\n",
      "30000/30000 [==============================] - 79s 3ms/step - loss: 1.4076 - acc: 0.4961 - val_loss: 1.3506 - val_acc: 0.5207\n",
      "Epoch 3/30\n",
      "30000/30000 [==============================] - 71s 2ms/step - loss: 1.2233 - acc: 0.5691 - val_loss: 1.2349 - val_acc: 0.5684\n",
      "Epoch 4/30\n",
      "30000/30000 [==============================] - 69s 2ms/step - loss: 1.1007 - acc: 0.6152 - val_loss: 1.1485 - val_acc: 0.5929\n",
      "Epoch 5/30\n",
      "30000/30000 [==============================] - 67s 2ms/step - loss: 0.9994 - acc: 0.6506 - val_loss: 1.0450 - val_acc: 0.6279\n",
      "Epoch 6/30\n",
      "30000/30000 [==============================] - 67s 2ms/step - loss: 0.9159 - acc: 0.6794 - val_loss: 1.0116 - val_acc: 0.6512\n",
      "Epoch 7/30\n",
      "30000/30000 [==============================] - 68s 2ms/step - loss: 0.8435 - acc: 0.7048 - val_loss: 0.9713 - val_acc: 0.6679\n",
      "Epoch 8/30\n",
      "30000/30000 [==============================] - 66s 2ms/step - loss: 0.7760 - acc: 0.7295 - val_loss: 0.9914 - val_acc: 0.6637\n",
      "Epoch 9/30\n",
      "30000/30000 [==============================] - 67s 2ms/step - loss: 0.7207 - acc: 0.7474 - val_loss: 0.9837 - val_acc: 0.6683\n",
      "Epoch 10/30\n",
      "30000/30000 [==============================] - 68s 2ms/step - loss: 0.6618 - acc: 0.7686 - val_loss: 1.0336 - val_acc: 0.6619\n",
      "Epoch 11/30\n",
      "30000/30000 [==============================] - 69s 2ms/step - loss: 0.6093 - acc: 0.7860 - val_loss: 1.0401 - val_acc: 0.6675\n",
      "Epoch 12/30\n",
      "30000/30000 [==============================] - 68s 2ms/step - loss: 0.5585 - acc: 0.8033 - val_loss: 1.0367 - val_acc: 0.6770\n",
      "Epoch 13/30\n",
      "30000/30000 [==============================] - 67s 2ms/step - loss: 0.5033 - acc: 0.8245 - val_loss: 1.0570 - val_acc: 0.6785\n",
      "Epoch 14/30\n",
      "30000/30000 [==============================] - 71s 2ms/step - loss: 0.4617 - acc: 0.8380 - val_loss: 1.1061 - val_acc: 0.6733\n",
      "Epoch 15/30\n",
      "30000/30000 [==============================] - 78s 3ms/step - loss: 0.4247 - acc: 0.8507 - val_loss: 1.1077 - val_acc: 0.6820\n",
      "Epoch 16/30\n",
      "30000/30000 [==============================] - 78s 3ms/step - loss: 0.3773 - acc: 0.8682 - val_loss: 1.3088 - val_acc: 0.6560\n",
      "Epoch 17/30\n",
      "30000/30000 [==============================] - 68s 2ms/step - loss: 0.3419 - acc: 0.8813 - val_loss: 1.2252 - val_acc: 0.6765\n",
      "Epoch 18/30\n",
      "30000/30000 [==============================] - 69s 2ms/step - loss: 0.3045 - acc: 0.8927 - val_loss: 1.3570 - val_acc: 0.6737\n",
      "Epoch 19/30\n",
      "30000/30000 [==============================] - 69s 2ms/step - loss: 0.2733 - acc: 0.9028 - val_loss: 1.3785 - val_acc: 0.6773\n",
      "Epoch 20/30\n",
      "30000/30000 [==============================] - 80s 3ms/step - loss: 0.2460 - acc: 0.9141 - val_loss: 1.5037 - val_acc: 0.6678\n",
      "Epoch 21/30\n",
      "30000/30000 [==============================] - 80s 3ms/step - loss: 0.2196 - acc: 0.9241 - val_loss: 1.6317 - val_acc: 0.6582\n",
      "Epoch 22/30\n",
      "30000/30000 [==============================] - 76s 3ms/step - loss: 0.1955 - acc: 0.9317 - val_loss: 1.5814 - val_acc: 0.6777\n",
      "Epoch 23/30\n",
      "30000/30000 [==============================] - 76s 3ms/step - loss: 0.1769 - acc: 0.9373 - val_loss: 1.7149 - val_acc: 0.6727\n",
      "Epoch 24/30\n",
      "30000/30000 [==============================] - 77s 3ms/step - loss: 0.1648 - acc: 0.9428 - val_loss: 1.8532 - val_acc: 0.6591\n",
      "Epoch 25/30\n",
      "30000/30000 [==============================] - 76s 3ms/step - loss: 0.1489 - acc: 0.9472 - val_loss: 1.9770 - val_acc: 0.6623\n",
      "Epoch 26/30\n",
      "30000/30000 [==============================] - 76s 3ms/step - loss: 0.1366 - acc: 0.9525 - val_loss: 1.9003 - val_acc: 0.6779\n",
      "Epoch 27/30\n",
      "30000/30000 [==============================] - 77s 3ms/step - loss: 0.1190 - acc: 0.9590 - val_loss: 2.0877 - val_acc: 0.6552\n",
      "Epoch 28/30\n",
      "30000/30000 [==============================] - 77s 3ms/step - loss: 0.1192 - acc: 0.9596 - val_loss: 2.3726 - val_acc: 0.6461\n",
      "Epoch 29/30\n",
      "30000/30000 [==============================] - 77s 3ms/step - loss: 0.1057 - acc: 0.9622 - val_loss: 2.2783 - val_acc: 0.6635\n",
      "Epoch 30/30\n",
      "30000/30000 [==============================] - 76s 3ms/step - loss: 0.1036 - acc: 0.9631 - val_loss: 2.3148 - val_acc: 0.6647\n"
     ]
    }
   ],
   "source": [
    "# Fit the model\n",
    "history = model.fit(train_data, \n",
    "                    train_labels, \n",
    "                    epochs=30, \n",
    "                    batch_size=64, \n",
    "                    validation_data=(validation_data, validation_labels)\n",
    "                   )\n"
   ]
  },
  {
   "cell_type": "code",
   "execution_count": 202,
   "metadata": {},
   "outputs": [
    {
     "data": {
      "image/png": "[encoded data removed]",
      "text/plain": [
       "<Figure size 432x288 with 1 Axes>"
      ]
     },
     "metadata": {
      "needs_background": "light"
     },
     "output_type": "display_data"
    },
    {
     "data": {
      "image/png": "[encoded data removed]",
      "text/plain": [
       "<Figure size 432x288 with 1 Axes>"
      ]
     },
     "metadata": {
      "needs_background": "light"
     },
     "output_type": "display_data"
    }
   ],
   "source": [
    "# Plot the results\n",
    "\n",
    "import matplotlib.pyplot as plt\n",
    "\n",
    "acc = history.history['acc']\n",
    "val_acc = history.history['val_acc']\n",
    "loss = history.history['loss']\n",
    "val_loss = history.history['val_loss']\n",
    "\n",
    "epochs = range(len(acc))\n",
    "\n",
    "plt.plot(epochs, acc, 'bo', label='Training acc')\n",
    "plt.plot(epochs, val_acc, 'b', label='Validation acc')\n",
    "plt.title('Training and validation accuracy')\n",
    "plt.legend()\n",
    "\n",
    "plt.figure()\n",
    "\n",
    "plt.plot(epochs, loss, 'bo', label='Training loss')\n",
    "plt.plot(epochs, val_loss, 'b', label='Validation loss')\n",
    "plt.title('Training and validation loss')\n",
    "plt.legend()\n",
    "\n",
    "plt.show()"
   ]
  },
  {
   "cell_type": "code",
   "execution_count": 203,
   "metadata": {},
   "outputs": [
    {
     "name": "stdout",
     "output_type": "stream",
     "text": [
      "10000/10000 [==============================] - 7s 705us/step\n",
      "test_acc:  0.652\n"
     ]
    }
   ],
   "source": [
    "test_loss, test_acc = model.evaluate(test_data, test_labels)\n",
    "print('test_acc: ', test_acc)"
   ]
  },
  {
   "cell_type": "code",
   "execution_count": null,
   "metadata": {},
   "outputs": [],
   "source": []
  },
  {
   "cell_type": "code",
   "execution_count": null,
   "metadata": {},
   "outputs": [],
   "source": []
  },
  {
   "cell_type": "code",
   "execution_count": null,
   "metadata": {},
   "outputs": [],
   "source": []
  }
 ],
 "metadata": {
  "kernelspec": {
   "display_name": "Python 3",
   "language": "python",
   "name": "python3"
  },
  "language_info": {
   "codemirror_mode": {
    "name": "ipython",
    "version": 3
   },
   "file_extension": ".py",
   "mimetype": "text/x-python",
   "name": "python",
   "nbconvert_exporter": "python",
   "pygments_lexer": "ipython3",
   "version": "3.6.7"
  }
 },
 "nbformat": 4,
 "nbformat_minor": 2
}
